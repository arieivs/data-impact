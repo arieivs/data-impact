{
 "cells": [
  {
   "cell_type": "markdown",
   "metadata": {},
   "source": [
    "# Analysing the Gender Paygap"
   ]
  },
  {
   "cell_type": "code",
   "execution_count": 2,
   "metadata": {},
   "outputs": [],
   "source": [
    "import pandas as pd\n",
    "import numpy as np\n",
    "import matplotlib.pyplot as plt\n",
    "import seaborn as sns"
   ]
  },
  {
   "cell_type": "code",
   "execution_count": 3,
   "metadata": {},
   "outputs": [
    {
     "name": "stdout",
     "output_type": "stream",
     "text": [
      "Collecting sklearn\n",
      "  Downloading https://files.pythonhosted.org/packages/1e/7a/dbb3be0ce9bd5c8b7e3d87328e79063f8b263b2b1bfa4774cb1147bfcd3f/sklearn-0.0.tar.gz\n",
      "Collecting scikit-learn\n",
      "\u001b[?25l  Downloading https://files.pythonhosted.org/packages/a8/eb/a48f25c967526b66d5f1fa7a984594f0bf0a5afafa94a8c4dbc317744620/scikit_learn-0.24.2-cp37-cp37m-manylinux2010_x86_64.whl (22.3MB)\n",
      "\u001b[K     |████████████████████████████████| 22.3MB 965kB/s eta 0:00:01.9MB 4.6MB/s eta 0:00:05\n",
      "\u001b[?25hRequirement already satisfied: numpy>=1.13.3 in /opt/conda/lib/python3.7/site-packages (from scikit-learn->sklearn) (1.20.2)\n",
      "Collecting joblib>=0.11\n",
      "\u001b[?25l  Downloading https://files.pythonhosted.org/packages/55/85/70c6602b078bd9e6f3da4f467047e906525c355a4dacd4f71b97a35d9897/joblib-1.0.1-py3-none-any.whl (303kB)\n",
      "\u001b[K     |████████████████████████████████| 307kB 18.8MB/s eta 0:00:01\n",
      "\u001b[?25hCollecting threadpoolctl>=2.0.0\n",
      "  Downloading https://files.pythonhosted.org/packages/c6/e8/c216b9b60cbba4642d3ca1bae7a53daa0c24426f662e0e3ce3dc7f6caeaa/threadpoolctl-2.2.0-py3-none-any.whl\n",
      "Requirement already satisfied: scipy>=0.19.1 in /opt/conda/lib/python3.7/site-packages (from scikit-learn->sklearn) (1.6.3)\n",
      "Building wheels for collected packages: sklearn\n",
      "  Building wheel for sklearn (setup.py) ... \u001b[?25ldone\n",
      "\u001b[?25h  Created wheel for sklearn: filename=sklearn-0.0-py2.py3-none-any.whl size=1316 sha256=9c73b609c92e4d6f8a00d5fcee7ba751baf5acae9f9c298d85eef7b0eda8fc5b\n",
      "  Stored in directory: /home/jovyan/.cache/pip/wheels/76/03/bb/589d421d27431bcd2c6da284d5f2286c8e3b2ea3cf1594c074\n",
      "Successfully built sklearn\n",
      "Installing collected packages: joblib, threadpoolctl, scikit-learn, sklearn\n",
      "Successfully installed joblib-1.0.1 scikit-learn-0.24.2 sklearn-0.0 threadpoolctl-2.2.0\n",
      "Note: you may need to restart the kernel to use updated packages.\n"
     ]
    }
   ],
   "source": [
    "pip install sklearn"
   ]
  },
  {
   "cell_type": "code",
   "execution_count": 4,
   "metadata": {},
   "outputs": [],
   "source": [
    "from sklearn.preprocessing import StandardScaler"
   ]
  },
  {
   "cell_type": "code",
   "execution_count": 5,
   "metadata": {},
   "outputs": [
    {
     "name": "stdout",
     "output_type": "stream",
     "text": [
      "Collecting lightgbm\n",
      "\u001b[?25l  Downloading https://files.pythonhosted.org/packages/18/b2/fff8370f48549ce223f929fe8cab4ee6bf285a41f86037d91312b48ed95b/lightgbm-3.2.1-py3-none-manylinux1_x86_64.whl (2.0MB)\n",
      "\u001b[K     |████████████████████████████████| 2.0MB 4.4MB/s eta 0:00:01\n",
      "\u001b[?25hRequirement already satisfied: wheel in /opt/conda/lib/python3.7/site-packages (from lightgbm) (0.33.6)\n",
      "Requirement already satisfied: numpy in /opt/conda/lib/python3.7/site-packages (from lightgbm) (1.20.2)\n",
      "Requirement already satisfied: scikit-learn!=0.22.0 in /opt/conda/lib/python3.7/site-packages (from lightgbm) (0.24.2)\n",
      "Requirement already satisfied: scipy in /opt/conda/lib/python3.7/site-packages (from lightgbm) (1.6.3)\n",
      "Requirement already satisfied: threadpoolctl>=2.0.0 in /opt/conda/lib/python3.7/site-packages (from scikit-learn!=0.22.0->lightgbm) (2.2.0)\n",
      "Requirement already satisfied: joblib>=0.11 in /opt/conda/lib/python3.7/site-packages (from scikit-learn!=0.22.0->lightgbm) (1.0.1)\n",
      "Installing collected packages: lightgbm\n",
      "Successfully installed lightgbm-3.2.1\n",
      "Note: you may need to restart the kernel to use updated packages.\n"
     ]
    }
   ],
   "source": [
    "pip install lightgbm"
   ]
  },
  {
   "cell_type": "code",
   "execution_count": 6,
   "metadata": {},
   "outputs": [],
   "source": [
    "from lightgbm import LGBMClassifier\n",
    "from lightgbm import plot_importance"
   ]
  },
  {
   "cell_type": "code",
   "execution_count": 7,
   "metadata": {},
   "outputs": [
    {
     "name": "stderr",
     "output_type": "stream",
     "text": [
      "/opt/conda/lib/python3.7/site-packages/IPython/core/interactiveshell.py:3051: DtypeWarning: Columns (0,2,8,10,21,23,24,25,26,27,28,44,56,64,83,85,87,107,109,123,125,150,157,172,174,194,210,218,219,223,246,249,262,264,276,277,278,279,280,281,282,283,284,285,286,287,288,289,290,304,306,325,326,329,341,368,371,384,385,389,390,391,393,394) have mixed types.Specify dtype option on import or set low_memory=False.\n",
      "  interactivity=interactivity, compiler=compiler, result=result)\n"
     ]
    }
   ],
   "source": [
    "df = pd.read_csv(\"multipleChoiceResponses.csv\")"
   ]
  },
  {
   "cell_type": "code",
   "execution_count": 8,
   "metadata": {},
   "outputs": [
    {
     "data": {
      "text/html": [
       "<div>\n",
       "<style scoped>\n",
       "    .dataframe tbody tr th:only-of-type {\n",
       "        vertical-align: middle;\n",
       "    }\n",
       "\n",
       "    .dataframe tbody tr th {\n",
       "        vertical-align: top;\n",
       "    }\n",
       "\n",
       "    .dataframe thead th {\n",
       "        text-align: right;\n",
       "    }\n",
       "</style>\n",
       "<table border=\"1\" class=\"dataframe\">\n",
       "  <thead>\n",
       "    <tr style=\"text-align: right;\">\n",
       "      <th></th>\n",
       "      <th>Time from Start to Finish (seconds)</th>\n",
       "      <th>Q1</th>\n",
       "      <th>Q1_OTHER_TEXT</th>\n",
       "      <th>Q2</th>\n",
       "      <th>Q3</th>\n",
       "      <th>Q4</th>\n",
       "      <th>Q5</th>\n",
       "      <th>Q6</th>\n",
       "      <th>Q6_OTHER_TEXT</th>\n",
       "      <th>Q7</th>\n",
       "      <th>...</th>\n",
       "      <th>Q49_OTHER_TEXT</th>\n",
       "      <th>Q50_Part_1</th>\n",
       "      <th>Q50_Part_2</th>\n",
       "      <th>Q50_Part_3</th>\n",
       "      <th>Q50_Part_4</th>\n",
       "      <th>Q50_Part_5</th>\n",
       "      <th>Q50_Part_6</th>\n",
       "      <th>Q50_Part_7</th>\n",
       "      <th>Q50_Part_8</th>\n",
       "      <th>Q50_OTHER_TEXT</th>\n",
       "    </tr>\n",
       "  </thead>\n",
       "  <tbody>\n",
       "    <tr>\n",
       "      <th>0</th>\n",
       "      <td>Duration (in seconds)</td>\n",
       "      <td>What is your gender? - Selected Choice</td>\n",
       "      <td>What is your gender? - Prefer to self-describe...</td>\n",
       "      <td>What is your age (# years)?</td>\n",
       "      <td>In which country do you currently reside?</td>\n",
       "      <td>What is the highest level of formal education ...</td>\n",
       "      <td>Which best describes your undergraduate major?...</td>\n",
       "      <td>Select the title most similar to your current ...</td>\n",
       "      <td>Select the title most similar to your current ...</td>\n",
       "      <td>In what industry is your current employer/cont...</td>\n",
       "      <td>...</td>\n",
       "      <td>What tools and methods do you use to make your...</td>\n",
       "      <td>What barriers prevent you from making your wor...</td>\n",
       "      <td>What barriers prevent you from making your wor...</td>\n",
       "      <td>What barriers prevent you from making your wor...</td>\n",
       "      <td>What barriers prevent you from making your wor...</td>\n",
       "      <td>What barriers prevent you from making your wor...</td>\n",
       "      <td>What barriers prevent you from making your wor...</td>\n",
       "      <td>What barriers prevent you from making your wor...</td>\n",
       "      <td>What barriers prevent you from making your wor...</td>\n",
       "      <td>What barriers prevent you from making your wor...</td>\n",
       "    </tr>\n",
       "    <tr>\n",
       "      <th>1</th>\n",
       "      <td>710</td>\n",
       "      <td>Female</td>\n",
       "      <td>-1</td>\n",
       "      <td>45-49</td>\n",
       "      <td>United States of America</td>\n",
       "      <td>Doctoral degree</td>\n",
       "      <td>Other</td>\n",
       "      <td>Consultant</td>\n",
       "      <td>-1</td>\n",
       "      <td>Other</td>\n",
       "      <td>...</td>\n",
       "      <td>-1</td>\n",
       "      <td>NaN</td>\n",
       "      <td>NaN</td>\n",
       "      <td>NaN</td>\n",
       "      <td>NaN</td>\n",
       "      <td>NaN</td>\n",
       "      <td>NaN</td>\n",
       "      <td>NaN</td>\n",
       "      <td>NaN</td>\n",
       "      <td>-1</td>\n",
       "    </tr>\n",
       "    <tr>\n",
       "      <th>2</th>\n",
       "      <td>434</td>\n",
       "      <td>Male</td>\n",
       "      <td>-1</td>\n",
       "      <td>30-34</td>\n",
       "      <td>Indonesia</td>\n",
       "      <td>Bachelor’s degree</td>\n",
       "      <td>Engineering (non-computer focused)</td>\n",
       "      <td>Other</td>\n",
       "      <td>0</td>\n",
       "      <td>Manufacturing/Fabrication</td>\n",
       "      <td>...</td>\n",
       "      <td>-1</td>\n",
       "      <td>NaN</td>\n",
       "      <td>NaN</td>\n",
       "      <td>NaN</td>\n",
       "      <td>NaN</td>\n",
       "      <td>NaN</td>\n",
       "      <td>NaN</td>\n",
       "      <td>NaN</td>\n",
       "      <td>NaN</td>\n",
       "      <td>-1</td>\n",
       "    </tr>\n",
       "    <tr>\n",
       "      <th>3</th>\n",
       "      <td>718</td>\n",
       "      <td>Female</td>\n",
       "      <td>-1</td>\n",
       "      <td>30-34</td>\n",
       "      <td>United States of America</td>\n",
       "      <td>Master’s degree</td>\n",
       "      <td>Computer science (software engineering, etc.)</td>\n",
       "      <td>Data Scientist</td>\n",
       "      <td>-1</td>\n",
       "      <td>I am a student</td>\n",
       "      <td>...</td>\n",
       "      <td>-1</td>\n",
       "      <td>NaN</td>\n",
       "      <td>Too time-consuming</td>\n",
       "      <td>NaN</td>\n",
       "      <td>NaN</td>\n",
       "      <td>NaN</td>\n",
       "      <td>NaN</td>\n",
       "      <td>NaN</td>\n",
       "      <td>NaN</td>\n",
       "      <td>-1</td>\n",
       "    </tr>\n",
       "    <tr>\n",
       "      <th>4</th>\n",
       "      <td>621</td>\n",
       "      <td>Male</td>\n",
       "      <td>-1</td>\n",
       "      <td>35-39</td>\n",
       "      <td>United States of America</td>\n",
       "      <td>Master’s degree</td>\n",
       "      <td>Social sciences (anthropology, psychology, soc...</td>\n",
       "      <td>Not employed</td>\n",
       "      <td>-1</td>\n",
       "      <td>NaN</td>\n",
       "      <td>...</td>\n",
       "      <td>-1</td>\n",
       "      <td>NaN</td>\n",
       "      <td>NaN</td>\n",
       "      <td>Requires too much technical knowledge</td>\n",
       "      <td>NaN</td>\n",
       "      <td>Not enough incentives to share my work</td>\n",
       "      <td>NaN</td>\n",
       "      <td>NaN</td>\n",
       "      <td>NaN</td>\n",
       "      <td>-1</td>\n",
       "    </tr>\n",
       "  </tbody>\n",
       "</table>\n",
       "<p>5 rows × 395 columns</p>\n",
       "</div>"
      ],
      "text/plain": [
       "  Time from Start to Finish (seconds)                                      Q1  \\\n",
       "0               Duration (in seconds)  What is your gender? - Selected Choice   \n",
       "1                                 710                                  Female   \n",
       "2                                 434                                    Male   \n",
       "3                                 718                                  Female   \n",
       "4                                 621                                    Male   \n",
       "\n",
       "                                       Q1_OTHER_TEXT  \\\n",
       "0  What is your gender? - Prefer to self-describe...   \n",
       "1                                                 -1   \n",
       "2                                                 -1   \n",
       "3                                                 -1   \n",
       "4                                                 -1   \n",
       "\n",
       "                            Q2                                         Q3  \\\n",
       "0  What is your age (# years)?  In which country do you currently reside?   \n",
       "1                        45-49                   United States of America   \n",
       "2                        30-34                                  Indonesia   \n",
       "3                        30-34                   United States of America   \n",
       "4                        35-39                   United States of America   \n",
       "\n",
       "                                                  Q4  \\\n",
       "0  What is the highest level of formal education ...   \n",
       "1                                    Doctoral degree   \n",
       "2                                  Bachelor’s degree   \n",
       "3                                    Master’s degree   \n",
       "4                                    Master’s degree   \n",
       "\n",
       "                                                  Q5  \\\n",
       "0  Which best describes your undergraduate major?...   \n",
       "1                                              Other   \n",
       "2                 Engineering (non-computer focused)   \n",
       "3      Computer science (software engineering, etc.)   \n",
       "4  Social sciences (anthropology, psychology, soc...   \n",
       "\n",
       "                                                  Q6  \\\n",
       "0  Select the title most similar to your current ...   \n",
       "1                                         Consultant   \n",
       "2                                              Other   \n",
       "3                                     Data Scientist   \n",
       "4                                       Not employed   \n",
       "\n",
       "                                       Q6_OTHER_TEXT  \\\n",
       "0  Select the title most similar to your current ...   \n",
       "1                                                 -1   \n",
       "2                                                  0   \n",
       "3                                                 -1   \n",
       "4                                                 -1   \n",
       "\n",
       "                                                  Q7  ...  \\\n",
       "0  In what industry is your current employer/cont...  ...   \n",
       "1                                              Other  ...   \n",
       "2                          Manufacturing/Fabrication  ...   \n",
       "3                                     I am a student  ...   \n",
       "4                                                NaN  ...   \n",
       "\n",
       "                                      Q49_OTHER_TEXT  \\\n",
       "0  What tools and methods do you use to make your...   \n",
       "1                                                 -1   \n",
       "2                                                 -1   \n",
       "3                                                 -1   \n",
       "4                                                 -1   \n",
       "\n",
       "                                          Q50_Part_1  \\\n",
       "0  What barriers prevent you from making your wor...   \n",
       "1                                                NaN   \n",
       "2                                                NaN   \n",
       "3                                                NaN   \n",
       "4                                                NaN   \n",
       "\n",
       "                                          Q50_Part_2  \\\n",
       "0  What barriers prevent you from making your wor...   \n",
       "1                                                NaN   \n",
       "2                                                NaN   \n",
       "3                                 Too time-consuming   \n",
       "4                                                NaN   \n",
       "\n",
       "                                          Q50_Part_3  \\\n",
       "0  What barriers prevent you from making your wor...   \n",
       "1                                                NaN   \n",
       "2                                                NaN   \n",
       "3                                                NaN   \n",
       "4              Requires too much technical knowledge   \n",
       "\n",
       "                                          Q50_Part_4  \\\n",
       "0  What barriers prevent you from making your wor...   \n",
       "1                                                NaN   \n",
       "2                                                NaN   \n",
       "3                                                NaN   \n",
       "4                                                NaN   \n",
       "\n",
       "                                          Q50_Part_5  \\\n",
       "0  What barriers prevent you from making your wor...   \n",
       "1                                                NaN   \n",
       "2                                                NaN   \n",
       "3                                                NaN   \n",
       "4             Not enough incentives to share my work   \n",
       "\n",
       "                                          Q50_Part_6  \\\n",
       "0  What barriers prevent you from making your wor...   \n",
       "1                                                NaN   \n",
       "2                                                NaN   \n",
       "3                                                NaN   \n",
       "4                                                NaN   \n",
       "\n",
       "                                          Q50_Part_7  \\\n",
       "0  What barriers prevent you from making your wor...   \n",
       "1                                                NaN   \n",
       "2                                                NaN   \n",
       "3                                                NaN   \n",
       "4                                                NaN   \n",
       "\n",
       "                                          Q50_Part_8  \\\n",
       "0  What barriers prevent you from making your wor...   \n",
       "1                                                NaN   \n",
       "2                                                NaN   \n",
       "3                                                NaN   \n",
       "4                                                NaN   \n",
       "\n",
       "                                      Q50_OTHER_TEXT  \n",
       "0  What barriers prevent you from making your wor...  \n",
       "1                                                 -1  \n",
       "2                                                 -1  \n",
       "3                                                 -1  \n",
       "4                                                 -1  \n",
       "\n",
       "[5 rows x 395 columns]"
      ]
     },
     "execution_count": 8,
     "metadata": {},
     "output_type": "execute_result"
    }
   ],
   "source": [
    "df.head()"
   ]
  },
  {
   "cell_type": "markdown",
   "metadata": {},
   "source": [
    "## Data Treatment"
   ]
  },
  {
   "cell_type": "markdown",
   "metadata": {},
   "source": [
    "### 1. Separate questions from answers"
   ]
  },
  {
   "cell_type": "code",
   "execution_count": 9,
   "metadata": {},
   "outputs": [
    {
     "data": {
      "text/plain": [
       "Time from Start to Finish (seconds)                                Duration (in seconds)\n",
       "Q1                                                What is your gender? - Selected Choice\n",
       "Q1_OTHER_TEXT                          What is your gender? - Prefer to self-describe...\n",
       "Q2                                                           What is your age (# years)?\n",
       "Q3                                             In which country do you currently reside?\n",
       "                                                             ...                        \n",
       "Q50_Part_5                             What barriers prevent you from making your wor...\n",
       "Q50_Part_6                             What barriers prevent you from making your wor...\n",
       "Q50_Part_7                             What barriers prevent you from making your wor...\n",
       "Q50_Part_8                             What barriers prevent you from making your wor...\n",
       "Q50_OTHER_TEXT                         What barriers prevent you from making your wor...\n",
       "Name: 0, Length: 395, dtype: object"
      ]
     },
     "execution_count": 9,
     "metadata": {},
     "output_type": "execute_result"
    }
   ],
   "source": [
    "questions = df.iloc[0]\n",
    "df_answers = df.drop(0, axis=0)\n",
    "questions"
   ]
  },
  {
   "cell_type": "markdown",
   "metadata": {},
   "source": [
    "### 2. Subset of columns"
   ]
  },
  {
   "cell_type": "code",
   "execution_count": 10,
   "metadata": {},
   "outputs": [
    {
     "data": {
      "text/html": [
       "<div>\n",
       "<style scoped>\n",
       "    .dataframe tbody tr th:only-of-type {\n",
       "        vertical-align: middle;\n",
       "    }\n",
       "\n",
       "    .dataframe tbody tr th {\n",
       "        vertical-align: top;\n",
       "    }\n",
       "\n",
       "    .dataframe thead th {\n",
       "        text-align: right;\n",
       "    }\n",
       "</style>\n",
       "<table border=\"1\" class=\"dataframe\">\n",
       "  <thead>\n",
       "    <tr style=\"text-align: right;\">\n",
       "      <th></th>\n",
       "      <th>Gender</th>\n",
       "      <th>Age</th>\n",
       "      <th>Country</th>\n",
       "      <th>Education</th>\n",
       "      <th>FieldOfStudies</th>\n",
       "      <th>JobTitle</th>\n",
       "      <th>Industry</th>\n",
       "      <th>Experience</th>\n",
       "      <th>YearlyCompensation</th>\n",
       "    </tr>\n",
       "  </thead>\n",
       "  <tbody>\n",
       "    <tr>\n",
       "      <th>1</th>\n",
       "      <td>Female</td>\n",
       "      <td>45-49</td>\n",
       "      <td>United States of America</td>\n",
       "      <td>Doctoral degree</td>\n",
       "      <td>Other</td>\n",
       "      <td>Consultant</td>\n",
       "      <td>Other</td>\n",
       "      <td>NaN</td>\n",
       "      <td>NaN</td>\n",
       "    </tr>\n",
       "    <tr>\n",
       "      <th>2</th>\n",
       "      <td>Male</td>\n",
       "      <td>30-34</td>\n",
       "      <td>Indonesia</td>\n",
       "      <td>Bachelor’s degree</td>\n",
       "      <td>Engineering (non-computer focused)</td>\n",
       "      <td>Other</td>\n",
       "      <td>Manufacturing/Fabrication</td>\n",
       "      <td>5-10</td>\n",
       "      <td>10-20,000</td>\n",
       "    </tr>\n",
       "    <tr>\n",
       "      <th>3</th>\n",
       "      <td>Female</td>\n",
       "      <td>30-34</td>\n",
       "      <td>United States of America</td>\n",
       "      <td>Master’s degree</td>\n",
       "      <td>Computer science (software engineering, etc.)</td>\n",
       "      <td>Data Scientist</td>\n",
       "      <td>I am a student</td>\n",
       "      <td>0-1</td>\n",
       "      <td>0-10,000</td>\n",
       "    </tr>\n",
       "    <tr>\n",
       "      <th>4</th>\n",
       "      <td>Male</td>\n",
       "      <td>35-39</td>\n",
       "      <td>United States of America</td>\n",
       "      <td>Master’s degree</td>\n",
       "      <td>Social sciences (anthropology, psychology, soc...</td>\n",
       "      <td>Not employed</td>\n",
       "      <td>NaN</td>\n",
       "      <td>NaN</td>\n",
       "      <td>NaN</td>\n",
       "    </tr>\n",
       "    <tr>\n",
       "      <th>5</th>\n",
       "      <td>Male</td>\n",
       "      <td>22-24</td>\n",
       "      <td>India</td>\n",
       "      <td>Master’s degree</td>\n",
       "      <td>Mathematics or statistics</td>\n",
       "      <td>Data Analyst</td>\n",
       "      <td>I am a student</td>\n",
       "      <td>0-1</td>\n",
       "      <td>0-10,000</td>\n",
       "    </tr>\n",
       "  </tbody>\n",
       "</table>\n",
       "</div>"
      ],
      "text/plain": [
       "   Gender    Age                   Country          Education  \\\n",
       "1  Female  45-49  United States of America    Doctoral degree   \n",
       "2    Male  30-34                 Indonesia  Bachelor’s degree   \n",
       "3  Female  30-34  United States of America    Master’s degree   \n",
       "4    Male  35-39  United States of America    Master’s degree   \n",
       "5    Male  22-24                     India    Master’s degree   \n",
       "\n",
       "                                      FieldOfStudies        JobTitle  \\\n",
       "1                                              Other      Consultant   \n",
       "2                 Engineering (non-computer focused)           Other   \n",
       "3      Computer science (software engineering, etc.)  Data Scientist   \n",
       "4  Social sciences (anthropology, psychology, soc...    Not employed   \n",
       "5                          Mathematics or statistics    Data Analyst   \n",
       "\n",
       "                    Industry Experience YearlyCompensation  \n",
       "1                      Other        NaN                NaN  \n",
       "2  Manufacturing/Fabrication       5-10          10-20,000  \n",
       "3             I am a student        0-1           0-10,000  \n",
       "4                        NaN        NaN                NaN  \n",
       "5             I am a student        0-1           0-10,000  "
      ]
     },
     "execution_count": 10,
     "metadata": {},
     "output_type": "execute_result"
    }
   ],
   "source": [
    "df_short = df_answers[['Q1', 'Q2', 'Q3',\n",
    "                       'Q4', 'Q5', 'Q6',\n",
    "                       'Q7', 'Q8', 'Q9']].rename(columns = {'Q1':'Gender', 'Q2':'Age', 'Q3':'Country',\n",
    "                                                            'Q4':'Education', 'Q5':'FieldOfStudies',\n",
    "                                                            'Q6':'JobTitle', 'Q7':'Industry','Q8':'Experience',\n",
    "                                                            'Q9':'YearlyCompensation'})\n",
    "df_short.head()"
   ]
  },
  {
   "cell_type": "markdown",
   "metadata": {},
   "source": [
    "### 3. Treat Missing values"
   ]
  },
  {
   "cell_type": "code",
   "execution_count": 11,
   "metadata": {},
   "outputs": [
    {
     "data": {
      "text/plain": [
       "Male                       19430\n",
       "Female                      4010\n",
       "Prefer not to say            340\n",
       "Prefer to self-describe       79\n",
       "Name: Gender, dtype: int64"
      ]
     },
     "execution_count": 11,
     "metadata": {},
     "output_type": "execute_result"
    }
   ],
   "source": [
    "df_short = df_short.fillna('Unknown')\n",
    "df_short['Gender'].value_counts()"
   ]
  },
  {
   "cell_type": "code",
   "execution_count": 12,
   "metadata": {},
   "outputs": [],
   "source": [
    "df_short = df_short[(df_short['Gender'] == 'Male') | (df_short['Gender'] == 'Female') ]"
   ]
  },
  {
   "cell_type": "code",
   "execution_count": 13,
   "metadata": {},
   "outputs": [
    {
     "data": {
      "text/plain": [
       "I do not wish to disclose my approximate yearly compensation    4623\n",
       "0-10,000                                                        4363\n",
       "Unknown                                                         3571\n",
       "10-20,000                                                       1909\n",
       "20-30,000                                                       1380\n",
       "30-40,000                                                       1109\n",
       "40-50,000                                                        950\n",
       "50-60,000                                                        908\n",
       "100-125,000                                                      831\n",
       "60-70,000                                                        723\n",
       "70-80,000                                                        673\n",
       "90-100,000                                                       559\n",
       "125-150,000                                                      528\n",
       "80-90,000                                                        500\n",
       "150-200,000                                                      449\n",
       "200-250,000                                                      168\n",
       "250-300,000                                                       74\n",
       "500,000+                                                          50\n",
       "300-400,000                                                       49\n",
       "400-500,000                                                       23\n",
       "Name: YearlyCompensation, dtype: int64"
      ]
     },
     "execution_count": 13,
     "metadata": {},
     "output_type": "execute_result"
    }
   ],
   "source": [
    "df_short['YearlyCompensation'].value_counts()"
   ]
  },
  {
   "cell_type": "code",
   "execution_count": 14,
   "metadata": {},
   "outputs": [
    {
     "data": {
      "text/html": [
       "<div>\n",
       "<style scoped>\n",
       "    .dataframe tbody tr th:only-of-type {\n",
       "        vertical-align: middle;\n",
       "    }\n",
       "\n",
       "    .dataframe tbody tr th {\n",
       "        vertical-align: top;\n",
       "    }\n",
       "\n",
       "    .dataframe thead th {\n",
       "        text-align: right;\n",
       "    }\n",
       "</style>\n",
       "<table border=\"1\" class=\"dataframe\">\n",
       "  <thead>\n",
       "    <tr style=\"text-align: right;\">\n",
       "      <th></th>\n",
       "      <th>Gender</th>\n",
       "      <th>Age</th>\n",
       "      <th>Country</th>\n",
       "      <th>Education</th>\n",
       "      <th>FieldOfStudies</th>\n",
       "      <th>JobTitle</th>\n",
       "      <th>Industry</th>\n",
       "      <th>Experience</th>\n",
       "      <th>YearlyCompensation</th>\n",
       "    </tr>\n",
       "  </thead>\n",
       "  <tbody>\n",
       "    <tr>\n",
       "      <th>6</th>\n",
       "      <td>Male</td>\n",
       "      <td>25-29</td>\n",
       "      <td>Colombia</td>\n",
       "      <td>Bachelor’s degree</td>\n",
       "      <td>Physics or astronomy</td>\n",
       "      <td>Data Scientist</td>\n",
       "      <td>Computers/Technology</td>\n",
       "      <td>0-1</td>\n",
       "      <td>I do not wish to disclose my approximate yearl...</td>\n",
       "    </tr>\n",
       "    <tr>\n",
       "      <th>11</th>\n",
       "      <td>Male</td>\n",
       "      <td>22-24</td>\n",
       "      <td>Ireland</td>\n",
       "      <td>Bachelor’s degree</td>\n",
       "      <td>Information technology, networking, or system ...</td>\n",
       "      <td>Student</td>\n",
       "      <td>I am a student</td>\n",
       "      <td>3-4</td>\n",
       "      <td>I do not wish to disclose my approximate yearl...</td>\n",
       "    </tr>\n",
       "    <tr>\n",
       "      <th>34</th>\n",
       "      <td>Female</td>\n",
       "      <td>25-29</td>\n",
       "      <td>China</td>\n",
       "      <td>Master’s degree</td>\n",
       "      <td>Computer science (software engineering, etc.)</td>\n",
       "      <td>Data Analyst</td>\n",
       "      <td>Energy/Mining</td>\n",
       "      <td>2-3</td>\n",
       "      <td>I do not wish to disclose my approximate yearl...</td>\n",
       "    </tr>\n",
       "    <tr>\n",
       "      <th>37</th>\n",
       "      <td>Male</td>\n",
       "      <td>40-44</td>\n",
       "      <td>India</td>\n",
       "      <td>Bachelor’s degree</td>\n",
       "      <td>Engineering (non-computer focused)</td>\n",
       "      <td>Software Engineer</td>\n",
       "      <td>Computers/Technology</td>\n",
       "      <td>10-15</td>\n",
       "      <td>I do not wish to disclose my approximate yearl...</td>\n",
       "    </tr>\n",
       "    <tr>\n",
       "      <th>49</th>\n",
       "      <td>Male</td>\n",
       "      <td>45-49</td>\n",
       "      <td>Austria</td>\n",
       "      <td>Professional degree</td>\n",
       "      <td>Mathematics or statistics</td>\n",
       "      <td>Research Scientist</td>\n",
       "      <td>Academics/Education</td>\n",
       "      <td>5-10</td>\n",
       "      <td>I do not wish to disclose my approximate yearl...</td>\n",
       "    </tr>\n",
       "  </tbody>\n",
       "</table>\n",
       "</div>"
      ],
      "text/plain": [
       "    Gender    Age   Country            Education  \\\n",
       "6     Male  25-29  Colombia    Bachelor’s degree   \n",
       "11    Male  22-24   Ireland    Bachelor’s degree   \n",
       "34  Female  25-29     China      Master’s degree   \n",
       "37    Male  40-44     India    Bachelor’s degree   \n",
       "49    Male  45-49   Austria  Professional degree   \n",
       "\n",
       "                                       FieldOfStudies            JobTitle  \\\n",
       "6                                Physics or astronomy      Data Scientist   \n",
       "11  Information technology, networking, or system ...             Student   \n",
       "34      Computer science (software engineering, etc.)        Data Analyst   \n",
       "37                 Engineering (non-computer focused)   Software Engineer   \n",
       "49                          Mathematics or statistics  Research Scientist   \n",
       "\n",
       "                Industry Experience  \\\n",
       "6   Computers/Technology        0-1   \n",
       "11        I am a student        3-4   \n",
       "34         Energy/Mining        2-3   \n",
       "37  Computers/Technology      10-15   \n",
       "49   Academics/Education       5-10   \n",
       "\n",
       "                                   YearlyCompensation  \n",
       "6   I do not wish to disclose my approximate yearl...  \n",
       "11  I do not wish to disclose my approximate yearl...  \n",
       "34  I do not wish to disclose my approximate yearl...  \n",
       "37  I do not wish to disclose my approximate yearl...  \n",
       "49  I do not wish to disclose my approximate yearl...  "
      ]
     },
     "execution_count": 14,
     "metadata": {},
     "output_type": "execute_result"
    }
   ],
   "source": [
    "df_unknown = df_short[(df_short['YearlyCompensation'] == 'Unkown')\n",
    "                      | (df_short['YearlyCompensation'] == 'I do not wish to disclose my approximate yearly compensation')]\n",
    "df_unknown.head()"
   ]
  },
  {
   "cell_type": "code",
   "execution_count": 15,
   "metadata": {},
   "outputs": [
    {
     "data": {
      "text/html": [
       "<div>\n",
       "<style scoped>\n",
       "    .dataframe tbody tr th:only-of-type {\n",
       "        vertical-align: middle;\n",
       "    }\n",
       "\n",
       "    .dataframe tbody tr th {\n",
       "        vertical-align: top;\n",
       "    }\n",
       "\n",
       "    .dataframe thead th {\n",
       "        text-align: right;\n",
       "    }\n",
       "</style>\n",
       "<table border=\"1\" class=\"dataframe\">\n",
       "  <thead>\n",
       "    <tr style=\"text-align: right;\">\n",
       "      <th></th>\n",
       "      <th>Gender</th>\n",
       "      <th>Age</th>\n",
       "      <th>Country</th>\n",
       "      <th>Education</th>\n",
       "      <th>FieldOfStudies</th>\n",
       "      <th>JobTitle</th>\n",
       "      <th>Industry</th>\n",
       "      <th>Experience</th>\n",
       "      <th>YearlyCompensation</th>\n",
       "    </tr>\n",
       "  </thead>\n",
       "  <tbody>\n",
       "    <tr>\n",
       "      <th>2</th>\n",
       "      <td>Male</td>\n",
       "      <td>30-34</td>\n",
       "      <td>Indonesia</td>\n",
       "      <td>Bachelor’s degree</td>\n",
       "      <td>Engineering (non-computer focused)</td>\n",
       "      <td>Other</td>\n",
       "      <td>Manufacturing/Fabrication</td>\n",
       "      <td>5-10</td>\n",
       "      <td>10-20,000</td>\n",
       "    </tr>\n",
       "    <tr>\n",
       "      <th>3</th>\n",
       "      <td>Female</td>\n",
       "      <td>30-34</td>\n",
       "      <td>United States of America</td>\n",
       "      <td>Master’s degree</td>\n",
       "      <td>Computer science (software engineering, etc.)</td>\n",
       "      <td>Data Scientist</td>\n",
       "      <td>I am a student</td>\n",
       "      <td>0-1</td>\n",
       "      <td>0-10,000</td>\n",
       "    </tr>\n",
       "    <tr>\n",
       "      <th>5</th>\n",
       "      <td>Male</td>\n",
       "      <td>22-24</td>\n",
       "      <td>India</td>\n",
       "      <td>Master’s degree</td>\n",
       "      <td>Mathematics or statistics</td>\n",
       "      <td>Data Analyst</td>\n",
       "      <td>I am a student</td>\n",
       "      <td>0-1</td>\n",
       "      <td>0-10,000</td>\n",
       "    </tr>\n",
       "    <tr>\n",
       "      <th>7</th>\n",
       "      <td>Male</td>\n",
       "      <td>35-39</td>\n",
       "      <td>Chile</td>\n",
       "      <td>Doctoral degree</td>\n",
       "      <td>Information technology, networking, or system ...</td>\n",
       "      <td>Other</td>\n",
       "      <td>Academics/Education</td>\n",
       "      <td>10-15</td>\n",
       "      <td>10-20,000</td>\n",
       "    </tr>\n",
       "    <tr>\n",
       "      <th>8</th>\n",
       "      <td>Male</td>\n",
       "      <td>18-21</td>\n",
       "      <td>India</td>\n",
       "      <td>Master’s degree</td>\n",
       "      <td>Information technology, networking, or system ...</td>\n",
       "      <td>Other</td>\n",
       "      <td>Other</td>\n",
       "      <td>0-1</td>\n",
       "      <td>0-10,000</td>\n",
       "    </tr>\n",
       "  </tbody>\n",
       "</table>\n",
       "</div>"
      ],
      "text/plain": [
       "   Gender    Age                   Country          Education  \\\n",
       "2    Male  30-34                 Indonesia  Bachelor’s degree   \n",
       "3  Female  30-34  United States of America    Master’s degree   \n",
       "5    Male  22-24                     India    Master’s degree   \n",
       "7    Male  35-39                     Chile    Doctoral degree   \n",
       "8    Male  18-21                     India    Master’s degree   \n",
       "\n",
       "                                      FieldOfStudies        JobTitle  \\\n",
       "2                 Engineering (non-computer focused)           Other   \n",
       "3      Computer science (software engineering, etc.)  Data Scientist   \n",
       "5                          Mathematics or statistics    Data Analyst   \n",
       "7  Information technology, networking, or system ...           Other   \n",
       "8  Information technology, networking, or system ...           Other   \n",
       "\n",
       "                    Industry Experience YearlyCompensation  \n",
       "2  Manufacturing/Fabrication       5-10          10-20,000  \n",
       "3             I am a student        0-1           0-10,000  \n",
       "5             I am a student        0-1           0-10,000  \n",
       "7        Academics/Education      10-15          10-20,000  \n",
       "8                      Other        0-1           0-10,000  "
      ]
     },
     "execution_count": 15,
     "metadata": {},
     "output_type": "execute_result"
    }
   ],
   "source": [
    "df_short = df_short[(df_short['YearlyCompensation'] != 'I do not wish to disclose my approximate yearly compensation')\n",
    "                    & (df_short['YearlyCompensation'] != 'Unknown')]\n",
    "df_short.head()"
   ]
  },
  {
   "cell_type": "markdown",
   "metadata": {},
   "source": [
    "### 4. Convert some categorical values into numerical values"
   ]
  },
  {
   "cell_type": "code",
   "execution_count": 16,
   "metadata": {},
   "outputs": [],
   "source": [
    "dic_age = {'18-21':19.5, '22-24':23, '25-29':27, '30-34':32, '35-39':37, '40-44':42, '45-49':47, '50-54':52,\n",
    "           '55-59':57, '60-69':64.5, '70-79':74.5, '80+':80}\n",
    "df_short['Age'] = df_short['Age'].apply(lambda x: dic_age[x])"
   ]
  },
  {
   "cell_type": "code",
   "execution_count": 17,
   "metadata": {},
   "outputs": [],
   "source": [
    "dic_exp = {'0-1':0.5, '1-2':1.5, '2-3':2.5, '3-4':3.5, '4-5':4.5, '5-10':7.5, '10-15':12.5, '15-20':17.5,\n",
    "           '20-25':22.5, '25-30':27.5, '30 +':30, 'Unknown':0}\n",
    "df_short['Experience'] = df_short['Experience'].apply(lambda x: dic_exp[x])"
   ]
  },
  {
   "cell_type": "code",
   "execution_count": 18,
   "metadata": {},
   "outputs": [
    {
     "data": {
      "text/html": [
       "<div>\n",
       "<style scoped>\n",
       "    .dataframe tbody tr th:only-of-type {\n",
       "        vertical-align: middle;\n",
       "    }\n",
       "\n",
       "    .dataframe tbody tr th {\n",
       "        vertical-align: top;\n",
       "    }\n",
       "\n",
       "    .dataframe thead th {\n",
       "        text-align: right;\n",
       "    }\n",
       "</style>\n",
       "<table border=\"1\" class=\"dataframe\">\n",
       "  <thead>\n",
       "    <tr style=\"text-align: right;\">\n",
       "      <th></th>\n",
       "      <th>Gender</th>\n",
       "      <th>Age</th>\n",
       "      <th>Country</th>\n",
       "      <th>Education</th>\n",
       "      <th>FieldOfStudies</th>\n",
       "      <th>JobTitle</th>\n",
       "      <th>Industry</th>\n",
       "      <th>Experience</th>\n",
       "      <th>YearlyCompensation</th>\n",
       "    </tr>\n",
       "  </thead>\n",
       "  <tbody>\n",
       "    <tr>\n",
       "      <th>2</th>\n",
       "      <td>Male</td>\n",
       "      <td>32.0</td>\n",
       "      <td>Indonesia</td>\n",
       "      <td>Bachelor’s degree</td>\n",
       "      <td>Engineering (non-computer focused)</td>\n",
       "      <td>Other</td>\n",
       "      <td>Manufacturing/Fabrication</td>\n",
       "      <td>7.5</td>\n",
       "      <td>15000</td>\n",
       "    </tr>\n",
       "    <tr>\n",
       "      <th>3</th>\n",
       "      <td>Female</td>\n",
       "      <td>32.0</td>\n",
       "      <td>United States of America</td>\n",
       "      <td>Master’s degree</td>\n",
       "      <td>Computer science (software engineering, etc.)</td>\n",
       "      <td>Data Scientist</td>\n",
       "      <td>I am a student</td>\n",
       "      <td>0.5</td>\n",
       "      <td>5000</td>\n",
       "    </tr>\n",
       "    <tr>\n",
       "      <th>5</th>\n",
       "      <td>Male</td>\n",
       "      <td>23.0</td>\n",
       "      <td>India</td>\n",
       "      <td>Master’s degree</td>\n",
       "      <td>Mathematics or statistics</td>\n",
       "      <td>Data Analyst</td>\n",
       "      <td>I am a student</td>\n",
       "      <td>0.5</td>\n",
       "      <td>5000</td>\n",
       "    </tr>\n",
       "    <tr>\n",
       "      <th>7</th>\n",
       "      <td>Male</td>\n",
       "      <td>37.0</td>\n",
       "      <td>Chile</td>\n",
       "      <td>Doctoral degree</td>\n",
       "      <td>Information technology, networking, or system ...</td>\n",
       "      <td>Other</td>\n",
       "      <td>Academics/Education</td>\n",
       "      <td>12.5</td>\n",
       "      <td>15000</td>\n",
       "    </tr>\n",
       "    <tr>\n",
       "      <th>8</th>\n",
       "      <td>Male</td>\n",
       "      <td>19.5</td>\n",
       "      <td>India</td>\n",
       "      <td>Master’s degree</td>\n",
       "      <td>Information technology, networking, or system ...</td>\n",
       "      <td>Other</td>\n",
       "      <td>Other</td>\n",
       "      <td>0.5</td>\n",
       "      <td>5000</td>\n",
       "    </tr>\n",
       "  </tbody>\n",
       "</table>\n",
       "</div>"
      ],
      "text/plain": [
       "   Gender   Age                   Country          Education  \\\n",
       "2    Male  32.0                 Indonesia  Bachelor’s degree   \n",
       "3  Female  32.0  United States of America    Master’s degree   \n",
       "5    Male  23.0                     India    Master’s degree   \n",
       "7    Male  37.0                     Chile    Doctoral degree   \n",
       "8    Male  19.5                     India    Master’s degree   \n",
       "\n",
       "                                      FieldOfStudies        JobTitle  \\\n",
       "2                 Engineering (non-computer focused)           Other   \n",
       "3      Computer science (software engineering, etc.)  Data Scientist   \n",
       "5                          Mathematics or statistics    Data Analyst   \n",
       "7  Information technology, networking, or system ...           Other   \n",
       "8  Information technology, networking, or system ...           Other   \n",
       "\n",
       "                    Industry  Experience  YearlyCompensation  \n",
       "2  Manufacturing/Fabrication         7.5               15000  \n",
       "3             I am a student         0.5                5000  \n",
       "5             I am a student         0.5                5000  \n",
       "7        Academics/Education        12.5               15000  \n",
       "8                      Other         0.5                5000  "
      ]
     },
     "execution_count": 18,
     "metadata": {},
     "output_type": "execute_result"
    }
   ],
   "source": [
    "dic_salary = {'0-10,000':5000, '10-20,000':15000, '20-30,000':25000, '30-40,000':35000, '40-50,000':45000,\n",
    "              '50-60,000':55000, '60-70,000':65000, '70-80,000':75000, '80-90,000':85000, '90-100,000':95000,\n",
    "              '100-125,000':112500, '125-150,000':137500, '150-200,000':175000, '200-250,000':225000,\n",
    "              '250-300,000':275000, '500,000+':500000, '300-400,000':350000, '400-500,000':450000}\n",
    "df_short['YearlyCompensation'] = df_short['YearlyCompensation'].apply(lambda x: dic_salary[x])\n",
    "df_short.head()"
   ]
  },
  {
   "cell_type": "markdown",
   "metadata": {},
   "source": [
    "## Exploratory Data Analysis"
   ]
  },
  {
   "cell_type": "code",
   "execution_count": 19,
   "metadata": {},
   "outputs": [
    {
     "data": {
      "text/plain": [
       "<AxesSubplot:xlabel='Education', ylabel='YearlyCompensation'>"
      ]
     },
     "execution_count": 19,
     "metadata": {},
     "output_type": "execute_result"
    },
    {
     "data": {
      "image/png": "[encoded data removed]",
      "text/plain": [
       "<Figure size 432x288 with 1 Axes>"
      ]
     },
     "metadata": {
      "needs_background": "light"
     },
     "output_type": "display_data"
    }
   ],
   "source": [
    "edu_gen_vin = sns.violinplot(data=df_short, x='Education', y='YearlyCompensation', hue='Gender')\n",
    "edu_gen_vin.set_xticklabels(edu_gen_vin.get_xticklabels(),rotation=90)\n",
    "edu_gen_vin"
   ]
  },
  {
   "cell_type": "markdown",
   "metadata": {},
   "source": [
    "Hypothesis: Man without proper education/background manage to reach high-earning positions, while women are more dependent from their educational background"
   ]
  },
  {
   "cell_type": "code",
   "execution_count": 20,
   "metadata": {},
   "outputs": [
    {
     "data": {
      "text/plain": [
       "<AxesSubplot:xlabel='Education', ylabel='count'>"
      ]
     },
     "execution_count": 20,
     "metadata": {},
     "output_type": "execute_result"
    },
    {
     "data": {
      "image/png": "[encoded data removed]",
      "text/plain": [
       "<Figure size 432x288 with 1 Axes>"
      ]
     },
     "metadata": {
      "needs_background": "light"
     },
     "output_type": "display_data"
    }
   ],
   "source": [
    "edu_gen = sns.countplot(data=df_short, x='Education', hue='Gender')\n",
    "edu_gen.set_xticklabels(edu_gen.get_xticklabels(),rotation=90)\n",
    "edu_gen"
   ]
  },
  {
   "cell_type": "markdown",
   "metadata": {},
   "source": [
    "Follow up: It might just be a reflection from a lower amount of women in the field."
   ]
  },
  {
   "cell_type": "markdown",
   "metadata": {},
   "source": [
    "Question: Are there more men or women choosing not to give their yearly compensation?"
   ]
  },
  {
   "cell_type": "code",
   "execution_count": 21,
   "metadata": {},
   "outputs": [
    {
     "data": {
      "text/plain": [
       "<AxesSubplot:xlabel='Gender', ylabel='count'>"
      ]
     },
     "execution_count": 21,
     "metadata": {},
     "output_type": "execute_result"
    },
    {
     "data": {
      "image/png": "[encoded data removed]",
      "text/plain": [
       "<Figure size 432x288 with 1 Axes>"
      ]
     },
     "metadata": {
      "needs_background": "light"
     },
     "output_type": "display_data"
    }
   ],
   "source": [
    "sns.countplot(data=df_unknown, x='Gender')"
   ]
  },
  {
   "cell_type": "code",
   "execution_count": 22,
   "metadata": {},
   "outputs": [
    {
     "data": {
      "text/plain": [
       "<AxesSubplot:xlabel='Gender', ylabel='count'>"
      ]
     },
     "execution_count": 22,
     "metadata": {},
     "output_type": "execute_result"
    },
    {
     "data": {
      "image/png": "[encoded data removed]",
      "text/plain": [
       "<Figure size 432x288 with 1 Axes>"
      ]
     },
     "metadata": {
      "needs_background": "light"
     },
     "output_type": "display_data"
    }
   ],
   "source": [
    "sns.countplot(data=df_short, x='Gender')"
   ]
  },
  {
   "cell_type": "code",
   "execution_count": 23,
   "metadata": {},
   "outputs": [
    {
     "data": {
      "text/plain": [
       "0.22580645161290322"
      ]
     },
     "execution_count": 23,
     "metadata": {},
     "output_type": "execute_result"
    }
   ],
   "source": [
    "3500/(12000+3500) # share of men not sharing their yearly compensation"
   ]
  },
  {
   "cell_type": "code",
   "execution_count": 24,
   "metadata": {},
   "outputs": [
    {
     "data": {
      "text/plain": [
       "0.3333333333333333"
      ]
     },
     "execution_count": 24,
     "metadata": {},
     "output_type": "execute_result"
    }
   ],
   "source": [
    "1000/(2000+1000) # share of women not sharing their yearly compensation"
   ]
  },
  {
   "cell_type": "markdown",
   "metadata": {},
   "source": [
    "Answer: quite similar."
   ]
  },
  {
   "cell_type": "code",
   "execution_count": 25,
   "metadata": {},
   "outputs": [
    {
     "data": {
      "text/plain": [
       "<AxesSubplot:xlabel='JobTitle', ylabel='YearlyCompensation'>"
      ]
     },
     "execution_count": 25,
     "metadata": {},
     "output_type": "execute_result"
    },
    {
     "data": {
      "image/png": "[encoded data removed]",
      "text/plain": [
       "<Figure size 432x288 with 1 Axes>"
      ]
     },
     "metadata": {
      "needs_background": "light"
     },
     "output_type": "display_data"
    }
   ],
   "source": [
    "job_gen_vin = sns.violinplot(data=df_short, x='JobTitle', y='YearlyCompensation', hue='Gender')\n",
    "job_gen_vin.set_xticklabels(job_gen_vin.get_xticklabels(),rotation=90)\n",
    "job_gen_vin"
   ]
  },
  {
   "cell_type": "code",
   "execution_count": 26,
   "metadata": {},
   "outputs": [
    {
     "data": {
      "text/plain": [
       "<AxesSubplot:xlabel='JobTitle', ylabel='YearlyCompensation'>"
      ]
     },
     "execution_count": 26,
     "metadata": {},
     "output_type": "execute_result"
    },
    {
     "data": {
      "image/png": "[encoded data removed]",
      "text/plain": [
       "<Figure size 432x288 with 1 Axes>"
      ]
     },
     "metadata": {
      "needs_background": "light"
     },
     "output_type": "display_data"
    }
   ],
   "source": [
    "job_gen_vin = sns.violinplot(data=df_short, x='JobTitle', y='YearlyCompensation', hue='Gender', split=True)\n",
    "job_gen_vin.set_xticklabels(job_gen_vin.get_xticklabels(),rotation=90)\n",
    "job_gen_vin"
   ]
  },
  {
   "cell_type": "markdown",
   "metadata": {},
   "source": [
    "Note: There's a bigger salary range for women as Chief Officer or Salesperson, in comparison to men"
   ]
  },
  {
   "cell_type": "markdown",
   "metadata": {},
   "source": [
    "## Prepare for the Model"
   ]
  },
  {
   "cell_type": "markdown",
   "metadata": {},
   "source": [
    "### 1. Define labels and features"
   ]
  },
  {
   "cell_type": "code",
   "execution_count": 27,
   "metadata": {},
   "outputs": [],
   "source": [
    "labels_col = 'YearlyCompensation'\n",
    "y = df_short[labels_col]\n",
    "x = df_short.drop(columns=[labels_col], axis=1)"
   ]
  },
  {
   "cell_type": "markdown",
   "metadata": {},
   "source": [
    "### 2. Scale numerical variables"
   ]
  },
  {
   "cell_type": "code",
   "execution_count": 28,
   "metadata": {},
   "outputs": [],
   "source": [
    "num_variables = ['Age', 'Experience']\n",
    "x[num_variables] = StandardScaler().fit_transform(x[num_variables])"
   ]
  },
  {
   "cell_type": "markdown",
   "metadata": {},
   "source": [
    "### 3. Encode categorical variables"
   ]
  },
  {
   "cell_type": "code",
   "execution_count": 29,
   "metadata": {},
   "outputs": [],
   "source": [
    "cat_variables = ['Gender', 'Country', 'Education', 'FieldOfStudies', 'JobTitle', 'Industry', 'Experience']\n",
    "for col in cat_variables:\n",
    "  x[col] = x[col].astype('category')\n",
    "x[cat_variables] = x[cat_variables].apply(lambda x: x.cat.codes)"
   ]
  },
  {
   "cell_type": "markdown",
   "metadata": {},
   "source": [
    "## Train a ML model"
   ]
  },
  {
   "cell_type": "code",
   "execution_count": 30,
   "metadata": {},
   "outputs": [
    {
     "data": {
      "text/plain": [
       "LGBMClassifier()"
      ]
     },
     "execution_count": 30,
     "metadata": {},
     "output_type": "execute_result"
    }
   ],
   "source": [
    "model = LGBMClassifier()\n",
    "model.fit(x, y)"
   ]
  },
  {
   "cell_type": "markdown",
   "metadata": {},
   "source": [
    "## Features Importance"
   ]
  },
  {
   "cell_type": "code",
   "execution_count": 31,
   "metadata": {},
   "outputs": [
    {
     "data": {
      "image/png": "[encoded data removed]",
      "text/plain": [
       "<Figure size 720x432 with 1 Axes>"
      ]
     },
     "metadata": {
      "needs_background": "light"
     },
     "output_type": "display_data"
    }
   ],
   "source": [
    "fig, ax = plt.subplots(figsize=(10, 6))\n",
    "plot_importance(model, max_num_features=50, height=0.8, ax=ax)\n",
    "ax.grid(False)\n",
    "plt.ylabel('Feature', size=12)\n",
    "plt.xlabel('Importance', size=12)\n",
    "plt.title('Importance of the features in our LGBM model', fontsize=15)\n",
    "plt.show()"
   ]
  },
  {
   "cell_type": "code",
   "execution_count": null,
   "metadata": {},
   "outputs": [],
   "source": []
  }
 ],
 "metadata": {
  "kernelspec": {
   "display_name": "Python 3",
   "language": "python",
   "name": "python3"
  },
  "language_info": {
   "codemirror_mode": {
    "name": "ipython",
    "version": 3
   },
   "file_extension": ".py",
   "mimetype": "text/x-python",
   "name": "python",
   "nbconvert_exporter": "python",
   "pygments_lexer": "ipython3",
   "version": "3.7.3"
  }
 },
 "nbformat": 4,
 "nbformat_minor": 4
}
